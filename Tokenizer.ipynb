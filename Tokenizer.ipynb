{
 "cells": [
  {
   "metadata": {},
   "cell_type": "markdown",
   "source": "<center><h1>Tokenize The Dataset</h1></center>",
   "id": "c1669fc890febc3b"
  },
  {
   "metadata": {},
   "cell_type": "markdown",
   "source": [
    "- **Tokenization** is the process of breaking down sequence of text into smaller units called tokens.\n",
    "The tokenizer we will use is **GPT-2 sub-word Tokenizer** which uses **Bypair Encodding(BPE)**.\n",
    "\n",
    "- Dataset -> Tokenizer -> Tokens -> TokenID\n"
   ],
   "id": "bdda3547dadab992"
  },
  {
   "metadata": {},
   "cell_type": "markdown",
   "source": [
    "**In this step, we will:**\n",
    "\n",
    "1. Tokenize the dataset into `tokenIDs`.\n",
    "2. Create two binary files:\n",
    "   - `Train.bin` with **2,000,000** rows\n",
    "   - `Validation.bin` with **22,000** rows\n",
    "3. Store all the token IDs in a single .bin file.\n",
    "   - This will store the tokenIDs in disk storage, no in RAM.\n",
    "      - Fast loading during training\n",
    "      - No need to re-tokenize\n",
    "\n",
    "These files will store the `tokenIDs` generated from the entire dataset.\n"
   ],
   "id": "f8d642fbcd657072"
  },
  {
   "metadata": {},
   "cell_type": "code",
   "outputs": [],
   "execution_count": null,
   "source": [
    "!pip install tiktoken #Tiktoken is a library from OpenAI from which we can get different tokenizers.\n",
    "import tiktoken\n",
    "import os\n",
    "import numpy as np\n",
    "from tqdm.auto import tqdm\n",
    "\n",
    "enc = tiktoken.get_encoding(\"gpt2\")\n",
    "\n",
    "def process(example):\n",
    "    ids = enc.encode_ordinary(example['text']) #encode_ordinary ignores any special tokens\n",
    "    out = {'ids': ids, 'len': len(ids)}\n",
    "    return out\n",
    "\n",
    "if not os.path.exists('train.bin'):\n",
    "    tokenized = ds.map(\n",
    "        process,\n",
    "        remove_columns=['text'],\n",
    "        desc= 'tokenizing the splits',\n",
    "        num_proc= 8,\n",
    "    )\n",
    "\n",
    "#Concatenate all the ids in each dataset into one large file which will be used for training\n",
    "for split, dset in tokenized.items():\n",
    "    arr_len = np.sum(dset['len'], dtype= np.uint64)\n",
    "    filename = f'{split}.bin'\n",
    "    dtype = np.uint16 #can do since enc.max_token_value == 50256 is < 2**16\n",
    "    arr = np.memmap(filename, dtype = dtype, mode = 'w+', shape= (arr_len,))\n",
    "    total_batches = 1024\n",
    "\n",
    "    idx = 0\n",
    "    for batch_idx in tqdm(range(total_batches), desc=f'wrriting {filename}'):\n",
    "        #Batch samples together for faster write\n",
    "        batch = dset.shard(num_shards = total_batches, index = batch_idx, contiguous = True).with_format('numpy')\n",
    "        arr_batch = np.concatenate(batch['ids'])\n",
    "        #Write into map\n",
    "        arr[idx : idx + len(arr_batch)] = arr_batch\n",
    "        idx += len(arr_batch)\n",
    "    arr.flush()"
   ],
   "id": "6ac3f5d521535518"
  }
 ],
 "metadata": {
  "kernelspec": {
   "display_name": "Python 3",
   "language": "python",
   "name": "python3"
  },
  "language_info": {
   "codemirror_mode": {
    "name": "ipython",
    "version": 2
   },
   "file_extension": ".py",
   "mimetype": "text/x-python",
   "name": "python",
   "nbconvert_exporter": "python",
   "pygments_lexer": "ipython2",
   "version": "2.7.6"
  }
 },
 "nbformat": 4,
 "nbformat_minor": 5
}
